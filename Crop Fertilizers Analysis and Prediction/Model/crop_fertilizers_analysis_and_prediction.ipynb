{
 "cells": [
  {
   "cell_type": "markdown",
   "metadata": {},
   "source": [
    "# Crop Fertilizers Analysis and Prediction"
   ]
  },
  {
   "cell_type": "markdown",
   "metadata": {},
   "source": [
    "Here will be using the dataset Fertilizer Prediction.csv and use it to use it to analyse the different crop fettilizers and predict the type of fertilizers using the data.\n",
    "\n",
    "In Data analysis we will use 7 algorithms \n",
    "\n",
    "1.Logistic Regression\n",
    "\n",
    "2.Linear Regression\n",
    "\n",
    "3.Ridge Regression\n",
    "\n",
    "4.K Neighbors Classifier\n",
    "\n",
    "5.Lasso Regression\n",
    "\n",
    "6.Random Forest Classifier\n",
    "\n",
    "7.Decision Tree Classifier\n",
    "\n",
    "By using the above algorithms, we will train our model by providing training data and once the model will be trained, we will perform prediction. After prediction, we will evaluate the performance of these algorithmns by error check and accuracy check."
   ]
  },
  {
   "cell_type": "markdown",
   "metadata": {},
   "source": [
    "### Steps been followed are as:\n",
    "\n",
    "Step 1:Data Exploration\n",
    "\n",
    "Step 2: Data Preparation\n",
    "\n",
    "Step 3: Data Visualization\n",
    "\n",
    "Step 4:Data training\n",
    "\n",
    "Step 5: Model Creation\n",
    "\n",
    "Step 6: Performance Evaluation"
   ]
  },
  {
   "cell_type": "markdown",
   "metadata": {},
   "source": [
    "## **Data Exploration**"
   ]
  },
  {
   "cell_type": "code",
   "execution_count": 1,
   "metadata": {},
   "outputs": [],
   "source": [
    "## import all the necessary libraries\n",
    "import warnings\n",
    "\n",
    "#Ignoring unnecessory warnings\n",
    "warnings.filterwarnings(\"ignore\")                   \n",
    "\n",
    "import numpy as np #for large and multi-dimensional arrays\n",
    "import pandas as pd #for data manipulation and analysis"
   ]
  },
  {
   "cell_type": "code",
   "execution_count": 2,
   "metadata": {},
   "outputs": [
    {
     "name": "stdout",
     "output_type": "stream",
     "text": [
      "(99, 9)\n"
     ]
    },
    {
     "data": {
      "text/html": [
       "<div>\n",
       "<style scoped>\n",
       "    .dataframe tbody tr th:only-of-type {\n",
       "        vertical-align: middle;\n",
       "    }\n",
       "\n",
       "    .dataframe tbody tr th {\n",
       "        vertical-align: top;\n",
       "    }\n",
       "\n",
       "    .dataframe thead th {\n",
       "        text-align: right;\n",
       "    }\n",
       "</style>\n",
       "<table border=\"1\" class=\"dataframe\">\n",
       "  <thead>\n",
       "    <tr style=\"text-align: right;\">\n",
       "      <th></th>\n",
       "      <th>Temparature</th>\n",
       "      <th>Humidity</th>\n",
       "      <th>Moisture</th>\n",
       "      <th>Soil Type</th>\n",
       "      <th>Crop Type</th>\n",
       "      <th>Nitrogen</th>\n",
       "      <th>Potassium</th>\n",
       "      <th>Phosphorous</th>\n",
       "      <th>Fertilizer Name</th>\n",
       "    </tr>\n",
       "  </thead>\n",
       "  <tbody>\n",
       "    <tr>\n",
       "      <th>0</th>\n",
       "      <td>26</td>\n",
       "      <td>52</td>\n",
       "      <td>38</td>\n",
       "      <td>Sandy</td>\n",
       "      <td>Maize</td>\n",
       "      <td>37</td>\n",
       "      <td>0</td>\n",
       "      <td>0</td>\n",
       "      <td>Urea</td>\n",
       "    </tr>\n",
       "    <tr>\n",
       "      <th>1</th>\n",
       "      <td>29</td>\n",
       "      <td>52</td>\n",
       "      <td>45</td>\n",
       "      <td>Loamy</td>\n",
       "      <td>Sugarcane</td>\n",
       "      <td>12</td>\n",
       "      <td>0</td>\n",
       "      <td>36</td>\n",
       "      <td>DAP</td>\n",
       "    </tr>\n",
       "    <tr>\n",
       "      <th>2</th>\n",
       "      <td>34</td>\n",
       "      <td>65</td>\n",
       "      <td>62</td>\n",
       "      <td>Black</td>\n",
       "      <td>Cotton</td>\n",
       "      <td>7</td>\n",
       "      <td>9</td>\n",
       "      <td>30</td>\n",
       "      <td>14-35-14</td>\n",
       "    </tr>\n",
       "    <tr>\n",
       "      <th>3</th>\n",
       "      <td>32</td>\n",
       "      <td>62</td>\n",
       "      <td>34</td>\n",
       "      <td>Red</td>\n",
       "      <td>Tobacco</td>\n",
       "      <td>22</td>\n",
       "      <td>0</td>\n",
       "      <td>20</td>\n",
       "      <td>28-28</td>\n",
       "    </tr>\n",
       "    <tr>\n",
       "      <th>4</th>\n",
       "      <td>28</td>\n",
       "      <td>54</td>\n",
       "      <td>46</td>\n",
       "      <td>Clayey</td>\n",
       "      <td>Paddy</td>\n",
       "      <td>35</td>\n",
       "      <td>0</td>\n",
       "      <td>0</td>\n",
       "      <td>Urea</td>\n",
       "    </tr>\n",
       "    <tr>\n",
       "      <th>...</th>\n",
       "      <td>...</td>\n",
       "      <td>...</td>\n",
       "      <td>...</td>\n",
       "      <td>...</td>\n",
       "      <td>...</td>\n",
       "      <td>...</td>\n",
       "      <td>...</td>\n",
       "      <td>...</td>\n",
       "      <td>...</td>\n",
       "    </tr>\n",
       "    <tr>\n",
       "      <th>94</th>\n",
       "      <td>25</td>\n",
       "      <td>50</td>\n",
       "      <td>32</td>\n",
       "      <td>Clayey</td>\n",
       "      <td>Pulses</td>\n",
       "      <td>24</td>\n",
       "      <td>0</td>\n",
       "      <td>19</td>\n",
       "      <td>28-28</td>\n",
       "    </tr>\n",
       "    <tr>\n",
       "      <th>95</th>\n",
       "      <td>30</td>\n",
       "      <td>60</td>\n",
       "      <td>27</td>\n",
       "      <td>Red</td>\n",
       "      <td>Tobacco</td>\n",
       "      <td>4</td>\n",
       "      <td>17</td>\n",
       "      <td>17</td>\n",
       "      <td>10-26-26</td>\n",
       "    </tr>\n",
       "    <tr>\n",
       "      <th>96</th>\n",
       "      <td>38</td>\n",
       "      <td>72</td>\n",
       "      <td>51</td>\n",
       "      <td>Loamy</td>\n",
       "      <td>Wheat</td>\n",
       "      <td>39</td>\n",
       "      <td>0</td>\n",
       "      <td>0</td>\n",
       "      <td>Urea</td>\n",
       "    </tr>\n",
       "    <tr>\n",
       "      <th>97</th>\n",
       "      <td>36</td>\n",
       "      <td>60</td>\n",
       "      <td>43</td>\n",
       "      <td>Sandy</td>\n",
       "      <td>Millets</td>\n",
       "      <td>15</td>\n",
       "      <td>0</td>\n",
       "      <td>41</td>\n",
       "      <td>DAP</td>\n",
       "    </tr>\n",
       "    <tr>\n",
       "      <th>98</th>\n",
       "      <td>29</td>\n",
       "      <td>58</td>\n",
       "      <td>57</td>\n",
       "      <td>Black</td>\n",
       "      <td>Sugarcane</td>\n",
       "      <td>12</td>\n",
       "      <td>0</td>\n",
       "      <td>10</td>\n",
       "      <td>20-20</td>\n",
       "    </tr>\n",
       "  </tbody>\n",
       "</table>\n",
       "<p>99 rows × 9 columns</p>\n",
       "</div>"
      ],
      "text/plain": [
       "    Temparature  Humidity   Moisture Soil Type  Crop Type  Nitrogen  \\\n",
       "0            26         52        38     Sandy      Maize        37   \n",
       "1            29         52        45     Loamy  Sugarcane        12   \n",
       "2            34         65        62     Black     Cotton         7   \n",
       "3            32         62        34       Red    Tobacco        22   \n",
       "4            28         54        46    Clayey      Paddy        35   \n",
       "..          ...        ...       ...       ...        ...       ...   \n",
       "94           25         50        32    Clayey     Pulses        24   \n",
       "95           30         60        27       Red    Tobacco         4   \n",
       "96           38         72        51     Loamy      Wheat        39   \n",
       "97           36         60        43     Sandy    Millets        15   \n",
       "98           29         58        57     Black  Sugarcane        12   \n",
       "\n",
       "    Potassium  Phosphorous Fertilizer Name  \n",
       "0           0            0            Urea  \n",
       "1           0           36             DAP  \n",
       "2           9           30        14-35-14  \n",
       "3           0           20           28-28  \n",
       "4           0            0            Urea  \n",
       "..        ...          ...             ...  \n",
       "94          0           19           28-28  \n",
       "95         17           17        10-26-26  \n",
       "96          0            0            Urea  \n",
       "97          0           41             DAP  \n",
       "98          0           10           20-20  \n",
       "\n",
       "[99 rows x 9 columns]"
      ]
     },
     "execution_count": 2,
     "metadata": {},
     "output_type": "execute_result"
    }
   ],
   "source": [
    "##reading dataset\n",
    "df = pd.read_csv('D:\\ML\\Crop Fertilizers Analysis and Prediction\\Dataset\\Fertilizer Prediction.csv')\n",
    "\n",
    "print(df.shape)\n",
    "# df1 = df\n",
    "df"
   ]
  },
  {
   "cell_type": "code",
   "execution_count": 3,
   "metadata": {},
   "outputs": [
    {
     "data": {
      "text/plain": [
       "Index(['Temparature', 'Humidity ', 'Moisture', 'Soil Type', 'Crop Type',\n",
       "       'Nitrogen', 'Potassium', 'Phosphorous', 'Fertilizer Name'],\n",
       "      dtype='object')"
      ]
     },
     "execution_count": 3,
     "metadata": {},
     "output_type": "execute_result"
    }
   ],
   "source": [
    "df.columns"
   ]
  },
  {
   "cell_type": "markdown",
   "metadata": {},
   "source": [
    "## **Data Preparation**"
   ]
  },
  {
   "cell_type": "code",
   "execution_count": 4,
   "metadata": {},
   "outputs": [
    {
     "name": "stdout",
     "output_type": "stream",
     "text": [
      "<class 'pandas.core.frame.DataFrame'>\n",
      "RangeIndex: 99 entries, 0 to 98\n",
      "Data columns (total 9 columns):\n",
      " #   Column           Non-Null Count  Dtype \n",
      "---  ------           --------------  ----- \n",
      " 0   Temparature      99 non-null     int64 \n",
      " 1   Humidity         99 non-null     int64 \n",
      " 2   Moisture         99 non-null     int64 \n",
      " 3   Soil Type        99 non-null     object\n",
      " 4   Crop Type        99 non-null     object\n",
      " 5   Nitrogen         99 non-null     int64 \n",
      " 6   Potassium        99 non-null     int64 \n",
      " 7   Phosphorous      99 non-null     int64 \n",
      " 8   Fertilizer Name  99 non-null     object\n",
      "dtypes: int64(6), object(3)\n",
      "memory usage: 7.1+ KB\n"
     ]
    }
   ],
   "source": [
    "df.info()"
   ]
  },
  {
   "cell_type": "code",
   "execution_count": 5,
   "metadata": {},
   "outputs": [
    {
     "data": {
      "text/html": [
       "<div>\n",
       "<style scoped>\n",
       "    .dataframe tbody tr th:only-of-type {\n",
       "        vertical-align: middle;\n",
       "    }\n",
       "\n",
       "    .dataframe tbody tr th {\n",
       "        vertical-align: top;\n",
       "    }\n",
       "\n",
       "    .dataframe thead th {\n",
       "        text-align: right;\n",
       "    }\n",
       "</style>\n",
       "<table border=\"1\" class=\"dataframe\">\n",
       "  <thead>\n",
       "    <tr style=\"text-align: right;\">\n",
       "      <th></th>\n",
       "      <th>Temparature</th>\n",
       "      <th>Humidity</th>\n",
       "      <th>Moisture</th>\n",
       "      <th>Nitrogen</th>\n",
       "      <th>Potassium</th>\n",
       "      <th>Phosphorous</th>\n",
       "    </tr>\n",
       "  </thead>\n",
       "  <tbody>\n",
       "    <tr>\n",
       "      <th>count</th>\n",
       "      <td>99.000000</td>\n",
       "      <td>99.000000</td>\n",
       "      <td>99.000000</td>\n",
       "      <td>99.000000</td>\n",
       "      <td>99.000000</td>\n",
       "      <td>99.000000</td>\n",
       "    </tr>\n",
       "    <tr>\n",
       "      <th>mean</th>\n",
       "      <td>30.282828</td>\n",
       "      <td>59.151515</td>\n",
       "      <td>43.181818</td>\n",
       "      <td>18.909091</td>\n",
       "      <td>3.383838</td>\n",
       "      <td>18.606061</td>\n",
       "    </tr>\n",
       "    <tr>\n",
       "      <th>std</th>\n",
       "      <td>3.502304</td>\n",
       "      <td>5.840331</td>\n",
       "      <td>11.271568</td>\n",
       "      <td>11.599693</td>\n",
       "      <td>5.814667</td>\n",
       "      <td>13.476978</td>\n",
       "    </tr>\n",
       "    <tr>\n",
       "      <th>min</th>\n",
       "      <td>25.000000</td>\n",
       "      <td>50.000000</td>\n",
       "      <td>25.000000</td>\n",
       "      <td>4.000000</td>\n",
       "      <td>0.000000</td>\n",
       "      <td>0.000000</td>\n",
       "    </tr>\n",
       "    <tr>\n",
       "      <th>25%</th>\n",
       "      <td>28.000000</td>\n",
       "      <td>54.000000</td>\n",
       "      <td>34.000000</td>\n",
       "      <td>10.000000</td>\n",
       "      <td>0.000000</td>\n",
       "      <td>9.000000</td>\n",
       "    </tr>\n",
       "    <tr>\n",
       "      <th>50%</th>\n",
       "      <td>30.000000</td>\n",
       "      <td>60.000000</td>\n",
       "      <td>41.000000</td>\n",
       "      <td>13.000000</td>\n",
       "      <td>0.000000</td>\n",
       "      <td>19.000000</td>\n",
       "    </tr>\n",
       "    <tr>\n",
       "      <th>75%</th>\n",
       "      <td>33.000000</td>\n",
       "      <td>64.000000</td>\n",
       "      <td>50.500000</td>\n",
       "      <td>24.000000</td>\n",
       "      <td>7.500000</td>\n",
       "      <td>30.000000</td>\n",
       "    </tr>\n",
       "    <tr>\n",
       "      <th>max</th>\n",
       "      <td>38.000000</td>\n",
       "      <td>72.000000</td>\n",
       "      <td>65.000000</td>\n",
       "      <td>42.000000</td>\n",
       "      <td>19.000000</td>\n",
       "      <td>42.000000</td>\n",
       "    </tr>\n",
       "  </tbody>\n",
       "</table>\n",
       "</div>"
      ],
      "text/plain": [
       "       Temparature  Humidity    Moisture   Nitrogen  Potassium  Phosphorous\n",
       "count    99.000000  99.000000  99.000000  99.000000  99.000000    99.000000\n",
       "mean     30.282828  59.151515  43.181818  18.909091   3.383838    18.606061\n",
       "std       3.502304   5.840331  11.271568  11.599693   5.814667    13.476978\n",
       "min      25.000000  50.000000  25.000000   4.000000   0.000000     0.000000\n",
       "25%      28.000000  54.000000  34.000000  10.000000   0.000000     9.000000\n",
       "50%      30.000000  60.000000  41.000000  13.000000   0.000000    19.000000\n",
       "75%      33.000000  64.000000  50.500000  24.000000   7.500000    30.000000\n",
       "max      38.000000  72.000000  65.000000  42.000000  19.000000    42.000000"
      ]
     },
     "execution_count": 5,
     "metadata": {},
     "output_type": "execute_result"
    }
   ],
   "source": [
    "# describing the dataset\n",
    "df.describe()"
   ]
  },
  {
   "cell_type": "code",
   "execution_count": 6,
   "metadata": {},
   "outputs": [
    {
     "data": {
      "text/plain": [
       "0         Urea\n",
       "1          DAP\n",
       "2     14-35-14\n",
       "3        28-28\n",
       "4         Urea\n",
       "        ...   \n",
       "94       28-28\n",
       "95    10-26-26\n",
       "96        Urea\n",
       "97         DAP\n",
       "98       20-20\n",
       "Name: Fertilizer Name, Length: 99, dtype: object"
      ]
     },
     "execution_count": 6,
     "metadata": {},
     "output_type": "execute_result"
    }
   ],
   "source": [
    "df1 = pd.read_csv('../Dataset/Fertilizer Prediction.csv')\n",
    "for n, i in enumerate(df1['Fertilizer Name']):\n",
    "    if i=='Urea':\n",
    "        df1['Fertilizer Name'][n] = 1.0\n",
    "    if i=='DAP':\n",
    "        df1['Fertilizer Name'][n] = 2.0\n",
    "    if i=='14-35-14':\n",
    "        df1['Fertilizer Name'][n] = 3.0\n",
    "    if i=='28-28':\n",
    "        df1['Fertilizer Name'][n] = 4.0\n",
    "    if i=='17-17-17':\n",
    "        df1['Fertilizer Name'][n] = 5.0\n",
    "    if i=='20-20':\n",
    "        df1['Fertilizer Name'][n] = 6.0\n",
    "    if i=='10-26-26':\n",
    "        df1['Fertilizer Name'][n] = 7.0\n",
    "df['Fertilizer Name']"
   ]
  },
  {
   "cell_type": "code",
   "execution_count": 7,
   "metadata": {},
   "outputs": [
    {
     "data": {
      "text/plain": [
       "array(['Sandy', 'Loamy', 'Black', 'Red', 'Clayey'], dtype=object)"
      ]
     },
     "execution_count": 7,
     "metadata": {},
     "output_type": "execute_result"
    }
   ],
   "source": [
    "# now we check how many unique type of soil type is there\n",
    "df['Soil Type'].unique()"
   ]
  },
  {
   "cell_type": "code",
   "execution_count": 8,
   "metadata": {},
   "outputs": [
    {
     "data": {
      "text/plain": [
       "Temparature        0\n",
       "Humidity           0\n",
       "Moisture           0\n",
       "Soil Type          0\n",
       "Crop Type          0\n",
       "Nitrogen           0\n",
       "Potassium          0\n",
       "Phosphorous        0\n",
       "Fertilizer Name    0\n",
       "dtype: int64"
      ]
     },
     "execution_count": 8,
     "metadata": {},
     "output_type": "execute_result"
    }
   ],
   "source": [
    "# checking the no. of missing values in the dataset\n",
    "df.isnull().sum()"
   ]
  },
  {
   "cell_type": "markdown",
   "metadata": {},
   "source": [
    "## **Data Visualization**"
   ]
  },
  {
   "cell_type": "code",
   "execution_count": 9,
   "metadata": {},
   "outputs": [
    {
     "data": {
      "text/plain": [
       "<AxesSubplot:>"
      ]
     },
     "execution_count": 9,
     "metadata": {},
     "output_type": "execute_result"
    },
    {
     "data": {
      "image/png": "[encoded data removed]",
      "text/plain": [
       "<Figure size 432x288 with 2 Axes>"
      ]
     },
     "metadata": {
      "needs_background": "light"
     },
     "output_type": "display_data"
    }
   ],
   "source": [
    "import matplotlib.pyplot as plt\n",
    "import seaborn as sns\n",
    "sns.heatmap(df.corr(),annot=True)"
   ]
  },
  {
   "cell_type": "code",
   "execution_count": 10,
   "metadata": {},
   "outputs": [
    {
     "data": {
      "text/plain": [
       "<AxesSubplot:xlabel='Soil Type', ylabel='count'>"
      ]
     },
     "execution_count": 10,
     "metadata": {},
     "output_type": "execute_result"
    },
    {
     "data": {
      "image/png": "[encoded data removed]",
      "text/plain": [
       "<Figure size 432x288 with 1 Axes>"
      ]
     },
     "metadata": {
      "needs_background": "light"
     },
     "output_type": "display_data"
    }
   ],
   "source": [
    "# visualizring the count plot for different soil type\n",
    "sns.countplot(x='Soil Type', data = df)"
   ]
  },
  {
   "cell_type": "code",
   "execution_count": 11,
   "metadata": {},
   "outputs": [
    {
     "data": {
      "text/plain": [
       "array(['Maize', 'Sugarcane', 'Cotton', 'Tobacco', 'Paddy', 'Barley',\n",
       "       'Wheat', 'Millets', 'Oil seeds', 'Pulses', 'Ground Nuts'],\n",
       "      dtype=object)"
      ]
     },
     "execution_count": 11,
     "metadata": {},
     "output_type": "execute_result"
    }
   ],
   "source": [
    "# now we check how many unique type of crop type is there\n",
    "df['Crop Type'].unique()"
   ]
  },
  {
   "cell_type": "code",
   "execution_count": 12,
   "metadata": {},
   "outputs": [
    {
     "data": {
      "text/plain": [
       "<AxesSubplot:xlabel='Crop Type', ylabel='count'>"
      ]
     },
     "execution_count": 12,
     "metadata": {},
     "output_type": "execute_result"
    },
    {
     "data": {
      "image/png": "[encoded data removed]",
      "text/plain": [
       "<Figure size 1080x360 with 1 Axes>"
      ]
     },
     "metadata": {
      "needs_background": "light"
     },
     "output_type": "display_data"
    }
   ],
   "source": [
    "# visualizring the count plot for different crop type\n",
    "plt.figure(figsize=(15,5))\n",
    "sns.countplot(x='Crop Type', data = df)"
   ]
  },
  {
   "cell_type": "code",
   "execution_count": 13,
   "metadata": {},
   "outputs": [
    {
     "data": {
      "text/plain": [
       "array(['Urea', 'DAP', '14-35-14', '28-28', '17-17-17', '20-20',\n",
       "       '10-26-26'], dtype=object)"
      ]
     },
     "execution_count": 13,
     "metadata": {},
     "output_type": "execute_result"
    }
   ],
   "source": [
    "# now we check how many unique type of Fertilizer type is there\n",
    "df['Fertilizer Name'].unique()"
   ]
  },
  {
   "cell_type": "code",
   "execution_count": 14,
   "metadata": {},
   "outputs": [
    {
     "data": {
      "text/plain": [
       "<AxesSubplot:xlabel='Fertilizer Name', ylabel='count'>"
      ]
     },
     "execution_count": 14,
     "metadata": {},
     "output_type": "execute_result"
    },
    {
     "data": {
      "image/png": "[encoded data removed]",
      "text/plain": [
       "<Figure size 432x288 with 1 Axes>"
      ]
     },
     "metadata": {
      "needs_background": "light"
     },
     "output_type": "display_data"
    }
   ],
   "source": [
    "# visualizring the count plot for different fertilizer type\n",
    "sns.countplot(x='Fertilizer Name', data = df)"
   ]
  },
  {
   "cell_type": "code",
   "execution_count": 15,
   "metadata": {},
   "outputs": [
    {
     "data": {
      "text/plain": [
       "<AxesSubplot:xlabel='Temparature', ylabel='count'>"
      ]
     },
     "execution_count": 15,
     "metadata": {},
     "output_type": "execute_result"
    },
    {
     "data": {
      "image/png": "[encoded data removed]",
      "text/plain": [
       "<Figure size 432x288 with 1 Axes>"
      ]
     },
     "metadata": {
      "needs_background": "light"
     },
     "output_type": "display_data"
    }
   ],
   "source": [
    "# visualizring the count plot for different Temparature\n",
    "sns.countplot(x='Temparature', data = df)"
   ]
  },
  {
   "cell_type": "code",
   "execution_count": 16,
   "metadata": {},
   "outputs": [
    {
     "data": {
      "text/plain": [
       "<AxesSubplot:xlabel='Moisture', ylabel='count'>"
      ]
     },
     "execution_count": 16,
     "metadata": {},
     "output_type": "execute_result"
    },
    {
     "data": {
      "image/png": "[encoded data removed]",
      "text/plain": [
       "<Figure size 1080x360 with 1 Axes>"
      ]
     },
     "metadata": {
      "needs_background": "light"
     },
     "output_type": "display_data"
    }
   ],
   "source": [
    "# visualizring the count plot for different Moisture \n",
    "plt.figure(figsize=(15,5))\n",
    "sns.countplot(x='Moisture', data = df)"
   ]
  },
  {
   "cell_type": "code",
   "execution_count": 17,
   "metadata": {},
   "outputs": [
    {
     "data": {
      "text/plain": [
       "<AxesSubplot:xlabel='Nitrogen', ylabel='count'>"
      ]
     },
     "execution_count": 17,
     "metadata": {},
     "output_type": "execute_result"
    },
    {
     "data": {
      "image/png": "[encoded data removed]",
      "text/plain": [
       "<Figure size 1080x360 with 1 Axes>"
      ]
     },
     "metadata": {
      "needs_background": "light"
     },
     "output_type": "display_data"
    }
   ],
   "source": [
    "# visualizring the count plot for different Nitrogen \n",
    "plt.figure(figsize=(15,5))\n",
    "sns.countplot(x='Nitrogen', data = df)"
   ]
  },
  {
   "cell_type": "code",
   "execution_count": 18,
   "metadata": {},
   "outputs": [
    {
     "data": {
      "text/plain": [
       "<AxesSubplot:xlabel='Potassium', ylabel='count'>"
      ]
     },
     "execution_count": 18,
     "metadata": {},
     "output_type": "execute_result"
    },
    {
     "data": {
      "image/png": "[encoded data removed]",
      "text/plain": [
       "<Figure size 1080x360 with 1 Axes>"
      ]
     },
     "metadata": {
      "needs_background": "light"
     },
     "output_type": "display_data"
    }
   ],
   "source": [
    "# visualizring the count plot for different Potassium \n",
    "plt.figure(figsize=(15,5))\n",
    "sns.countplot(x='Potassium', data = df)"
   ]
  },
  {
   "cell_type": "code",
   "execution_count": 19,
   "metadata": {},
   "outputs": [
    {
     "data": {
      "text/plain": [
       "<AxesSubplot:xlabel='Phosphorous', ylabel='count'>"
      ]
     },
     "execution_count": 19,
     "metadata": {},
     "output_type": "execute_result"
    },
    {
     "data": {
      "image/png": "[encoded data removed]",
      "text/plain": [
       "<Figure size 1080x360 with 1 Axes>"
      ]
     },
     "metadata": {
      "needs_background": "light"
     },
     "output_type": "display_data"
    }
   ],
   "source": [
    "# visualizring the count plot for different Phosphorous \n",
    "plt.figure(figsize=(15,5))\n",
    "sns.countplot(x='Phosphorous', data = df)"
   ]
  },
  {
   "cell_type": "markdown",
   "metadata": {},
   "source": [
    "## **Data Training**"
   ]
  },
  {
   "cell_type": "code",
   "execution_count": 20,
   "metadata": {},
   "outputs": [],
   "source": [
    "y=df['Fertilizer Name'].copy()\n",
    "X=df.drop(['Fertilizer Name'],axis=1).copy()\n",
    "y1=df1['Fertilizer Name'].copy()\n",
    "X1=df1.drop(['Fertilizer Name'],axis=1).copy()"
   ]
  },
  {
   "cell_type": "code",
   "execution_count": 21,
   "metadata": {},
   "outputs": [
    {
     "data": {
      "text/plain": [
       "0         Urea\n",
       "1          DAP\n",
       "2     14-35-14\n",
       "3        28-28\n",
       "4         Urea\n",
       "        ...   \n",
       "94       28-28\n",
       "95    10-26-26\n",
       "96        Urea\n",
       "97         DAP\n",
       "98       20-20\n",
       "Name: Fertilizer Name, Length: 99, dtype: object"
      ]
     },
     "execution_count": 21,
     "metadata": {},
     "output_type": "execute_result"
    }
   ],
   "source": [
    "y"
   ]
  },
  {
   "cell_type": "code",
   "execution_count": 22,
   "metadata": {},
   "outputs": [
    {
     "data": {
      "text/html": [
       "<div>\n",
       "<style scoped>\n",
       "    .dataframe tbody tr th:only-of-type {\n",
       "        vertical-align: middle;\n",
       "    }\n",
       "\n",
       "    .dataframe tbody tr th {\n",
       "        vertical-align: top;\n",
       "    }\n",
       "\n",
       "    .dataframe thead th {\n",
       "        text-align: right;\n",
       "    }\n",
       "</style>\n",
       "<table border=\"1\" class=\"dataframe\">\n",
       "  <thead>\n",
       "    <tr style=\"text-align: right;\">\n",
       "      <th></th>\n",
       "      <th>Temparature</th>\n",
       "      <th>Humidity</th>\n",
       "      <th>Moisture</th>\n",
       "      <th>Soil Type</th>\n",
       "      <th>Crop Type</th>\n",
       "      <th>Nitrogen</th>\n",
       "      <th>Potassium</th>\n",
       "      <th>Phosphorous</th>\n",
       "    </tr>\n",
       "  </thead>\n",
       "  <tbody>\n",
       "    <tr>\n",
       "      <th>0</th>\n",
       "      <td>26</td>\n",
       "      <td>52</td>\n",
       "      <td>38</td>\n",
       "      <td>Sandy</td>\n",
       "      <td>Maize</td>\n",
       "      <td>37</td>\n",
       "      <td>0</td>\n",
       "      <td>0</td>\n",
       "    </tr>\n",
       "    <tr>\n",
       "      <th>1</th>\n",
       "      <td>29</td>\n",
       "      <td>52</td>\n",
       "      <td>45</td>\n",
       "      <td>Loamy</td>\n",
       "      <td>Sugarcane</td>\n",
       "      <td>12</td>\n",
       "      <td>0</td>\n",
       "      <td>36</td>\n",
       "    </tr>\n",
       "    <tr>\n",
       "      <th>2</th>\n",
       "      <td>34</td>\n",
       "      <td>65</td>\n",
       "      <td>62</td>\n",
       "      <td>Black</td>\n",
       "      <td>Cotton</td>\n",
       "      <td>7</td>\n",
       "      <td>9</td>\n",
       "      <td>30</td>\n",
       "    </tr>\n",
       "    <tr>\n",
       "      <th>3</th>\n",
       "      <td>32</td>\n",
       "      <td>62</td>\n",
       "      <td>34</td>\n",
       "      <td>Red</td>\n",
       "      <td>Tobacco</td>\n",
       "      <td>22</td>\n",
       "      <td>0</td>\n",
       "      <td>20</td>\n",
       "    </tr>\n",
       "    <tr>\n",
       "      <th>4</th>\n",
       "      <td>28</td>\n",
       "      <td>54</td>\n",
       "      <td>46</td>\n",
       "      <td>Clayey</td>\n",
       "      <td>Paddy</td>\n",
       "      <td>35</td>\n",
       "      <td>0</td>\n",
       "      <td>0</td>\n",
       "    </tr>\n",
       "    <tr>\n",
       "      <th>...</th>\n",
       "      <td>...</td>\n",
       "      <td>...</td>\n",
       "      <td>...</td>\n",
       "      <td>...</td>\n",
       "      <td>...</td>\n",
       "      <td>...</td>\n",
       "      <td>...</td>\n",
       "      <td>...</td>\n",
       "    </tr>\n",
       "    <tr>\n",
       "      <th>94</th>\n",
       "      <td>25</td>\n",
       "      <td>50</td>\n",
       "      <td>32</td>\n",
       "      <td>Clayey</td>\n",
       "      <td>Pulses</td>\n",
       "      <td>24</td>\n",
       "      <td>0</td>\n",
       "      <td>19</td>\n",
       "    </tr>\n",
       "    <tr>\n",
       "      <th>95</th>\n",
       "      <td>30</td>\n",
       "      <td>60</td>\n",
       "      <td>27</td>\n",
       "      <td>Red</td>\n",
       "      <td>Tobacco</td>\n",
       "      <td>4</td>\n",
       "      <td>17</td>\n",
       "      <td>17</td>\n",
       "    </tr>\n",
       "    <tr>\n",
       "      <th>96</th>\n",
       "      <td>38</td>\n",
       "      <td>72</td>\n",
       "      <td>51</td>\n",
       "      <td>Loamy</td>\n",
       "      <td>Wheat</td>\n",
       "      <td>39</td>\n",
       "      <td>0</td>\n",
       "      <td>0</td>\n",
       "    </tr>\n",
       "    <tr>\n",
       "      <th>97</th>\n",
       "      <td>36</td>\n",
       "      <td>60</td>\n",
       "      <td>43</td>\n",
       "      <td>Sandy</td>\n",
       "      <td>Millets</td>\n",
       "      <td>15</td>\n",
       "      <td>0</td>\n",
       "      <td>41</td>\n",
       "    </tr>\n",
       "    <tr>\n",
       "      <th>98</th>\n",
       "      <td>29</td>\n",
       "      <td>58</td>\n",
       "      <td>57</td>\n",
       "      <td>Black</td>\n",
       "      <td>Sugarcane</td>\n",
       "      <td>12</td>\n",
       "      <td>0</td>\n",
       "      <td>10</td>\n",
       "    </tr>\n",
       "  </tbody>\n",
       "</table>\n",
       "<p>99 rows × 8 columns</p>\n",
       "</div>"
      ],
      "text/plain": [
       "    Temparature  Humidity   Moisture Soil Type  Crop Type  Nitrogen  \\\n",
       "0            26         52        38     Sandy      Maize        37   \n",
       "1            29         52        45     Loamy  Sugarcane        12   \n",
       "2            34         65        62     Black     Cotton         7   \n",
       "3            32         62        34       Red    Tobacco        22   \n",
       "4            28         54        46    Clayey      Paddy        35   \n",
       "..          ...        ...       ...       ...        ...       ...   \n",
       "94           25         50        32    Clayey     Pulses        24   \n",
       "95           30         60        27       Red    Tobacco         4   \n",
       "96           38         72        51     Loamy      Wheat        39   \n",
       "97           36         60        43     Sandy    Millets        15   \n",
       "98           29         58        57     Black  Sugarcane        12   \n",
       "\n",
       "    Potassium  Phosphorous  \n",
       "0           0            0  \n",
       "1           0           36  \n",
       "2           9           30  \n",
       "3           0           20  \n",
       "4           0            0  \n",
       "..        ...          ...  \n",
       "94          0           19  \n",
       "95         17           17  \n",
       "96          0            0  \n",
       "97          0           41  \n",
       "98          0           10  \n",
       "\n",
       "[99 rows x 8 columns]"
      ]
     },
     "execution_count": 22,
     "metadata": {},
     "output_type": "execute_result"
    }
   ],
   "source": [
    "X"
   ]
  },
  {
   "cell_type": "code",
   "execution_count": 23,
   "metadata": {},
   "outputs": [],
   "source": [
    "from sklearn.compose import ColumnTransformer\n",
    "from sklearn.preprocessing import OneHotEncoder\n",
    "ct = ColumnTransformer(transformers=[('encoder', OneHotEncoder(), [3,4])], remainder='passthrough')"
   ]
  },
  {
   "cell_type": "code",
   "execution_count": 24,
   "metadata": {},
   "outputs": [],
   "source": [
    "X = np.array(ct.fit_transform(X))\n",
    "X1 = np.array(ct.fit_transform(X1))"
   ]
  },
  {
   "cell_type": "code",
   "execution_count": 25,
   "metadata": {},
   "outputs": [
    {
     "data": {
      "text/plain": [
       "array([[ 0.,  0.,  0., ..., 37.,  0.,  0.],\n",
       "       [ 0.,  0.,  1., ..., 12.,  0., 36.],\n",
       "       [ 1.,  0.,  0., ...,  7.,  9., 30.],\n",
       "       ...,\n",
       "       [ 0.,  0.,  1., ..., 39.,  0.,  0.],\n",
       "       [ 0.,  0.,  0., ..., 15.,  0., 41.],\n",
       "       [ 1.,  0.,  0., ..., 12.,  0., 10.]])"
      ]
     },
     "execution_count": 25,
     "metadata": {},
     "output_type": "execute_result"
    }
   ],
   "source": [
    "X\n"
   ]
  },
  {
   "cell_type": "code",
   "execution_count": 26,
   "metadata": {},
   "outputs": [],
   "source": [
    "from sklearn.model_selection import train_test_split\n",
    "X_train,X_test,y_train,y_test=train_test_split(X,y,random_state=40,test_size=0.2)\n",
    "X1_train,X1_test,y1_train,y1_test=train_test_split(X1,y1,random_state=40,test_size=0.2)"
   ]
  },
  {
   "cell_type": "code",
   "execution_count": 27,
   "metadata": {},
   "outputs": [
    {
     "data": {
      "text/plain": [
       "array([[ 0.,  0.,  0., ..., 11., 12., 15.],\n",
       "       [ 0.,  0.,  0., ..., 41.,  0.,  0.],\n",
       "       [ 0.,  1.,  0., ...,  6., 19., 16.],\n",
       "       ...,\n",
       "       [ 0.,  0.,  1., ..., 41.,  0.,  0.],\n",
       "       [ 0.,  1.,  0., ...,  6., 19., 21.],\n",
       "       [ 0.,  1.,  0., ..., 21.,  0., 23.]])"
      ]
     },
     "execution_count": 27,
     "metadata": {},
     "output_type": "execute_result"
    }
   ],
   "source": [
    "X_train"
   ]
  },
  {
   "cell_type": "code",
   "execution_count": 28,
   "metadata": {},
   "outputs": [],
   "source": [
    "from sklearn.preprocessing import StandardScaler\n",
    "sc = StandardScaler()\n",
    "X_train = sc.fit_transform(X_train)\n",
    "X_test = sc.transform(X_test)"
   ]
  },
  {
   "cell_type": "code",
   "execution_count": 29,
   "metadata": {},
   "outputs": [
    {
     "data": {
      "text/plain": [
       "array(['Urea', 'DAP', '14-35-14', '28-28', '17-17-17', '20-20',\n",
       "       '10-26-26'], dtype=object)"
      ]
     },
     "execution_count": 29,
     "metadata": {},
     "output_type": "execute_result"
    }
   ],
   "source": [
    "df['Fertilizer Name'].unique()"
   ]
  },
  {
   "cell_type": "code",
   "execution_count": null,
   "metadata": {},
   "outputs": [],
   "source": []
  },
  {
   "cell_type": "code",
   "execution_count": null,
   "metadata": {},
   "outputs": [],
   "source": []
  },
  {
   "cell_type": "markdown",
   "metadata": {},
   "source": [
    "# **Model Creation**"
   ]
  },
  {
   "cell_type": "markdown",
   "metadata": {},
   "source": [
    "### **Logistic Regression**"
   ]
  },
  {
   "cell_type": "code",
   "execution_count": 30,
   "metadata": {},
   "outputs": [],
   "source": [
    "# Logistic Regression\n",
    "\n",
    "from sklearn.linear_model import LogisticRegression\n",
    "model1=LogisticRegression() # created a "
   ]
  },
  {
   "cell_type": "code",
   "execution_count": 31,
   "metadata": {},
   "outputs": [
    {
     "data": {
      "text/plain": [
       "array(['20-20', '14-35-14', 'DAP', '17-17-17', '14-35-14', '14-35-14',\n",
       "       '28-28', 'Urea', '17-17-17', '20-20', 'Urea', 'Urea', 'Urea',\n",
       "       'Urea', 'DAP', '28-28', '10-26-26', '10-26-26', '14-35-14', 'DAP'],\n",
       "      dtype=object)"
      ]
     },
     "execution_count": 31,
     "metadata": {},
     "output_type": "execute_result"
    }
   ],
   "source": [
    "model1.fit(X_train, y_train)\n",
    "# Making predictions \n",
    "pred1 = model1.predict(X_test)\n",
    "pred1"
   ]
  },
  {
   "cell_type": "code",
   "execution_count": 32,
   "metadata": {},
   "outputs": [
    {
     "name": "stdout",
     "output_type": "stream",
     "text": [
      "Accuracy of the LogisticRegression model comes to be: \n",
      " \n",
      "1.0\n"
     ]
    }
   ],
   "source": [
    "print(\"Accuracy of the LogisticRegression model comes to be: \\n \") \n",
    "print(model1.score(X_train,y_train))"
   ]
  },
  {
   "cell_type": "markdown",
   "metadata": {},
   "source": [
    "### **Linear Regression**"
   ]
  },
  {
   "cell_type": "code",
   "execution_count": 33,
   "metadata": {},
   "outputs": [],
   "source": [
    "# Linear Regression\n",
    "\n",
    "from sklearn.linear_model import LinearRegression\n",
    "model2=LinearRegression() # created a"
   ]
  },
  {
   "cell_type": "code",
   "execution_count": 34,
   "metadata": {},
   "outputs": [
    {
     "data": {
      "text/plain": [
       "array([ 4.01998512,  4.89662157,  4.33268014,  5.12894242,  3.96994834,\n",
       "        4.87312739,  2.58560982,  1.76254897,  5.16548946,  5.86649956,\n",
       "        0.82309112,  2.92854109,  1.00431967, -0.3021214 ,  2.65044903,\n",
       "        3.25908206,  6.29286553,  3.81602318,  4.03054995,  2.12473899])"
      ]
     },
     "execution_count": 34,
     "metadata": {},
     "output_type": "execute_result"
    }
   ],
   "source": [
    "model2.fit(X1_train, y1_train)\n",
    "# Making predictions \n",
    "pred2 = model2.predict(X1_test)\n",
    "pred2"
   ]
  },
  {
   "cell_type": "code",
   "execution_count": 35,
   "metadata": {},
   "outputs": [
    {
     "name": "stdout",
     "output_type": "stream",
     "text": [
      "Accuracy of the LinearRegression model comes to be: \n",
      " \n",
      "0.8014938874526446\n"
     ]
    }
   ],
   "source": [
    "print(\"Accuracy of the LinearRegression model comes to be: \\n \") \n",
    "print(model2.score(X1_train,y1_train))"
   ]
  },
  {
   "cell_type": "markdown",
   "metadata": {},
   "source": [
    "### **Ridge Regression**"
   ]
  },
  {
   "cell_type": "code",
   "execution_count": 36,
   "metadata": {},
   "outputs": [],
   "source": [
    "# Importing model\n",
    "from sklearn.linear_model import Ridge\n",
    "model3 = Ridge()"
   ]
  },
  {
   "cell_type": "code",
   "execution_count": 37,
   "metadata": {},
   "outputs": [
    {
     "data": {
      "text/plain": [
       "array([4.06699264, 4.69167572, 4.25389331, 5.24880042, 3.92667704,\n",
       "       4.89008377, 2.4726087 , 1.67177764, 5.33417389, 5.87737405,\n",
       "       1.07482081, 2.79074373, 1.12716344, 0.33347176, 2.60248876,\n",
       "       3.31051946, 6.18690294, 3.9648718 , 3.92651579, 1.63068483])"
      ]
     },
     "execution_count": 37,
     "metadata": {},
     "output_type": "execute_result"
    }
   ],
   "source": [
    "#Fitting data into the model.\n",
    "model3.fit(X1_train, y1_train)\n",
    "# Making predictions on Test data \n",
    "pred3 = model3.predict(X1_test)\n",
    "pred3"
   ]
  },
  {
   "cell_type": "code",
   "execution_count": 38,
   "metadata": {},
   "outputs": [
    {
     "name": "stdout",
     "output_type": "stream",
     "text": [
      "Accuracy of the RidgeRegression model comes to be: \n",
      " \n",
      "0.7973366911868287\n"
     ]
    }
   ],
   "source": [
    "print(\"Accuracy of the RidgeRegression model comes to be: \\n \") \n",
    "print(model3.score(X1_train,y1_train))"
   ]
  },
  {
   "cell_type": "markdown",
   "metadata": {},
   "source": [
    "### **K Neighbors Classifier**"
   ]
  },
  {
   "cell_type": "code",
   "execution_count": 39,
   "metadata": {},
   "outputs": [],
   "source": [
    "from sklearn.neighbors import KNeighborsClassifier\n",
    "model4=KNeighborsClassifier(n_neighbors=30)"
   ]
  },
  {
   "cell_type": "code",
   "execution_count": 40,
   "metadata": {},
   "outputs": [
    {
     "data": {
      "text/plain": [
       "array(['20-20', '20-20', 'DAP', '20-20', '20-20', '14-35-14', '28-28',\n",
       "       'Urea', '28-28', '20-20', 'Urea', 'Urea', '20-20', 'Urea', '20-20',\n",
       "       '28-28', '14-35-14', '14-35-14', '20-20', 'DAP'], dtype=object)"
      ]
     },
     "execution_count": 40,
     "metadata": {},
     "output_type": "execute_result"
    }
   ],
   "source": [
    "#Fitting data into the model.\n",
    "model4.fit(X_train, y_train)\n",
    "# Making predictions on Test data \n",
    "pred4 = model4.predict(X_test)\n",
    "pred4"
   ]
  },
  {
   "cell_type": "code",
   "execution_count": 41,
   "metadata": {},
   "outputs": [
    {
     "name": "stdout",
     "output_type": "stream",
     "text": [
      "Accuracy of the K Neighbors Classifier model comes to be: \n",
      " \n",
      "0.5949367088607594\n"
     ]
    }
   ],
   "source": [
    "print(\"Accuracy of the K Neighbors Classifier model comes to be: \\n \") \n",
    "print(model4.score(X_train,y_train))"
   ]
  },
  {
   "cell_type": "markdown",
   "metadata": {},
   "source": [
    "### **Lasso Regression**"
   ]
  },
  {
   "cell_type": "code",
   "execution_count": 42,
   "metadata": {},
   "outputs": [],
   "source": [
    "# Importing model\n",
    "from sklearn.linear_model import Lasso\n",
    "model5 = Lasso()"
   ]
  },
  {
   "cell_type": "code",
   "execution_count": 43,
   "metadata": {},
   "outputs": [
    {
     "data": {
      "text/plain": [
       "array([4.96383034, 4.02933322, 4.43529527, 5.37028081, 3.92066652,\n",
       "       4.86032252, 2.47990472, 2.02875663, 4.9425128 , 5.30558542,\n",
       "       1.37157356, 2.2972182 , 2.24513718, 1.89076773, 2.63337026,\n",
       "       3.05215675, 5.44028439, 4.50122186, 4.18766281, 2.04264648])"
      ]
     },
     "execution_count": 43,
     "metadata": {},
     "output_type": "execute_result"
    }
   ],
   "source": [
    "#Fitting data into the model.\n",
    "model5.fit(X1_train, y1_train)\n",
    "# Making predictions on Test data \n",
    "pred5 = model5.predict(X1_test)\n",
    "pred5"
   ]
  },
  {
   "cell_type": "code",
   "execution_count": 44,
   "metadata": {},
   "outputs": [
    {
     "name": "stdout",
     "output_type": "stream",
     "text": [
      "Accuracy of the Lasso Regression model comes to be: \n",
      " \n",
      "0.7139350043103876\n"
     ]
    }
   ],
   "source": [
    "print(\"Accuracy of the Lasso Regression model comes to be: \\n \") \n",
    "print(model5.score(X1_train,y1_train))"
   ]
  },
  {
   "cell_type": "markdown",
   "metadata": {},
   "source": [
    "### **Random Forest Classifier**"
   ]
  },
  {
   "cell_type": "code",
   "execution_count": 45,
   "metadata": {},
   "outputs": [],
   "source": [
    "from sklearn.metrics import accuracy_score\n",
    "from sklearn.ensemble import RandomForestClassifier\n",
    "model6=RandomForestClassifier()"
   ]
  },
  {
   "cell_type": "code",
   "execution_count": 46,
   "metadata": {},
   "outputs": [
    {
     "data": {
      "text/plain": [
       "array(['20-20', '14-35-14', '14-35-14', '17-17-17', '14-35-14',\n",
       "       '17-17-17', 'DAP', 'Urea', '10-26-26', '20-20', 'Urea', 'Urea',\n",
       "       '28-28', 'Urea', '28-28', '28-28', '10-26-26', '14-35-14',\n",
       "       '14-35-14', 'DAP'], dtype=object)"
      ]
     },
     "execution_count": 46,
     "metadata": {},
     "output_type": "execute_result"
    }
   ],
   "source": [
    "model6.fit(X_train,y_train)\n",
    "pred6=model6.predict(X_test)\n",
    "pred6"
   ]
  },
  {
   "cell_type": "code",
   "execution_count": 47,
   "metadata": {},
   "outputs": [
    {
     "name": "stdout",
     "output_type": "stream",
     "text": [
      "Accuracy of the RandomForest model comes to be: \n",
      " \n",
      "0.95\n"
     ]
    }
   ],
   "source": [
    "print(\"Accuracy of the RandomForest model comes to be: \\n \") \n",
    "print(accuracy_score(y_test,pred6))"
   ]
  },
  {
   "cell_type": "markdown",
   "metadata": {},
   "source": [
    "### **Decision Tree Regression**"
   ]
  },
  {
   "cell_type": "code",
   "execution_count": 48,
   "metadata": {},
   "outputs": [],
   "source": [
    "# Importing decision tree regressor \n",
    "from sklearn.tree import DecisionTreeRegressor \n",
    "model7 = DecisionTreeRegressor()"
   ]
  },
  {
   "cell_type": "code",
   "execution_count": 49,
   "metadata": {},
   "outputs": [
    {
     "data": {
      "text/plain": [
       "array([6., 3., 3., 5., 3., 5., 2., 1., 5., 6., 1., 1., 4., 1., 4., 4., 7.,\n",
       "       3., 3., 2.])"
      ]
     },
     "execution_count": 49,
     "metadata": {},
     "output_type": "execute_result"
    }
   ],
   "source": [
    "#Fitting data into the model.\n",
    "model7.fit(X1_train, y1_train)\n",
    "# Making predictions on Test data \n",
    "pred7 = model7.predict(X1_test)\n",
    "pred7"
   ]
  },
  {
   "cell_type": "code",
   "execution_count": 50,
   "metadata": {},
   "outputs": [
    {
     "name": "stdout",
     "output_type": "stream",
     "text": [
      "Accuracy of the DecisionTree Classifier model comes to be: \n",
      " \n",
      "1.0\n"
     ]
    }
   ],
   "source": [
    "print(\"Accuracy of the DecisionTree Classifier model comes to be: \\n \") \n",
    "print(model7.score(X1_train,y1_train))"
   ]
  },
  {
   "cell_type": "code",
   "execution_count": null,
   "metadata": {},
   "outputs": [],
   "source": []
  },
  {
   "cell_type": "markdown",
   "metadata": {},
   "source": [
    "# **Performance Evaluation**"
   ]
  },
  {
   "cell_type": "code",
   "execution_count": 51,
   "metadata": {},
   "outputs": [
    {
     "name": "stdout",
     "output_type": "stream",
     "text": [
      "Model\t\t\tAccuracy of the model\n",
      "Logistic Regression\t\t 1.0000\n",
      "Linear Regression\t\t 0.8015\n",
      "Ridge Regression\t\t 0.7973\n",
      "K Neighbors Classifier\t \t\t 0.5949\n",
      "Lasso Regression\t\t 0.7139\n",
      "Random Forest Classifier\t\t 0.9500\n",
      "Decision Tree Classifier\t\t 1.0000\n"
     ]
    }
   ],
   "source": [
    "import numpy as np\n",
    "from sklearn.metrics import mean_squared_error\n",
    "print(\"Model\\t\\t\\tAccuracy of the model\") \n",
    "print(\"\"\"Logistic Regression\\t\\t {:.4f}\"\"\".format( model1.score(X_train,y_train)))\n",
    "print(\"\"\"Linear Regression\\t\\t {:.4f}\"\"\".format(model2.score(X1_train,y1_train)))\n",
    "print(\"\"\"Ridge Regression\\t\\t {:.4f}\"\"\".format( model3.score(X1_train,y1_train)))\n",
    "print(\"\"\"K Neighbors Classifier\\t \\t\\t {:.4f}\"\"\".format( model4.score(X_train,y_train)))\n",
    "print(\"\"\"Lasso Regression\\t\\t {:.4f}\"\"\".format(  model5.score(X1_train,y1_train)))\n",
    "print(\"\"\"Random Forest Classifier\\t\\t {:.4f}\"\"\".format( accuracy_score(y_test,pred6)))\n",
    "print(\"\"\"Decision Tree Classifier\\t\\t {:.4f}\"\"\".format( model7.score(X1_train,y1_train)))"
   ]
  },
  {
   "cell_type": "markdown",
   "metadata": {},
   "source": [
    "Conclusion: Accuracy of Regression models- Linear regression, rigde regression, Lasso Regression are around 70 to 80%.\n",
    "\n",
    "    \n",
    "Whereas accuracy K Neighbors Classifier is around 59%.\n",
    "\n",
    "And the Accuracy of the logistic regression, Random Forest and Decision Tree are almost 100%, so they are  efficient model among all."
   ]
  },
  {
   "cell_type": "code",
   "execution_count": null,
   "metadata": {},
   "outputs": [],
   "source": []
  },
  {
   "cell_type": "code",
   "execution_count": null,
   "metadata": {},
   "outputs": [],
   "source": []
  },
  {
   "cell_type": "code",
   "execution_count": null,
   "metadata": {},
   "outputs": [],
   "source": []
  }
 ],
 "metadata": {
  "kernelspec": {
   "display_name": "Python 3 (ipykernel)",
   "language": "python",
   "name": "python3"
  },
  "language_info": {
   "codemirror_mode": {
    "name": "ipython",
    "version": 3
   },
   "file_extension": ".py",
   "mimetype": "text/x-python",
   "name": "python",
   "nbconvert_exporter": "python",
   "pygments_lexer": "ipython3",
   "version": "3.9.8"
  }
 },
 "nbformat": 4,
 "nbformat_minor": 4
}
